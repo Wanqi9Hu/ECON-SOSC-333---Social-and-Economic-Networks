{
 "cells": [
  {
   "cell_type": "code",
   "execution_count": 1,
   "id": "fbb2d343",
   "metadata": {},
   "outputs": [],
   "source": [
    "import networkx as nx\n",
    "import matplotlib.pyplot as plt\n",
    "import numpy as np\n",
    "import pandas as pd\n",
    "import seaborn as sns\n",
    "import math \n",
    "from pylab import *\n",
    "#pip install networkx==2.4"
   ]
  },
  {
   "cell_type": "markdown",
   "id": "ca2150bc",
   "metadata": {},
   "source": [
    "# Directed Graph"
   ]
  },
  {
   "cell_type": "code",
   "execution_count": 2,
   "id": "d98af33a",
   "metadata": {},
   "outputs": [],
   "source": [
    "g1 = nx.DiGraph()\n",
    "g1.add_edges_from([('1', '2'),('1','5'),('2','6'),('6','2'),('8','5'),('8','6')], weight=1)\n",
    "g1.add_edges_from([('7','6'),('6','9'),('7','9'),('9','7'),('10','7'),('7','4'),('3','6')], weight=2)\n",
    "g1.add_node('11')\n",
    "g1.add_node('12')"
   ]
  },
  {
   "cell_type": "code",
   "execution_count": 3,
   "id": "48e5f2a3",
   "metadata": {},
   "outputs": [
    {
     "data": {
      "image/png": "[encoded data removed]",
      "text/plain": [
       "<Figure size 216x216 with 1 Axes>"
      ]
     },
     "metadata": {},
     "output_type": "display_data"
    }
   ],
   "source": [
    "plt.figure(1,figsize=(3,3)) \n",
    "pos=nx.kamada_kawai_layout(g1)\n",
    "nx.draw(g1,pos,with_labels=True)\n",
    "plt.show()"
   ]
  },
  {
   "cell_type": "code",
   "execution_count": 4,
   "id": "d9801d37",
   "metadata": {},
   "outputs": [
    {
     "data": {
      "text/plain": [
       "12"
      ]
     },
     "execution_count": 4,
     "metadata": {},
     "output_type": "execute_result"
    }
   ],
   "source": [
    "nx.number_of_nodes(g1)"
   ]
  },
  {
   "cell_type": "code",
   "execution_count": 5,
   "id": "f2dca03a",
   "metadata": {},
   "outputs": [
    {
     "data": {
      "text/plain": [
       "13"
      ]
     },
     "execution_count": 5,
     "metadata": {},
     "output_type": "execute_result"
    }
   ],
   "source": [
    "nx.number_of_edges(g1)"
   ]
  },
  {
   "cell_type": "code",
   "execution_count": 6,
   "id": "2a220289",
   "metadata": {},
   "outputs": [
    {
     "data": {
      "text/plain": [
       "[{'12'},\n",
       " {'11'},\n",
       " {'4'},\n",
       " {'5'},\n",
       " {'2', '6', '7', '9'},\n",
       " {'3'},\n",
       " {'10'},\n",
       " {'8'},\n",
       " {'1'}]"
      ]
     },
     "execution_count": 6,
     "metadata": {},
     "output_type": "execute_result"
    }
   ],
   "source": [
    "#Strongly connected components: There is a directed path between node A to node B and another from node B to node A.\n",
    "sorted(nx.kosaraju_strongly_connected_components(g1))"
   ]
  },
  {
   "cell_type": "code",
   "execution_count": 7,
   "id": "34069bea",
   "metadata": {},
   "outputs": [
    {
     "data": {
      "text/plain": [
       "[4, 1, 1, 1, 1, 1, 1, 1, 1]"
      ]
     },
     "execution_count": 7,
     "metadata": {},
     "output_type": "execute_result"
    }
   ],
   "source": [
    "[len(c) for c in sorted(nx.kosaraju_strongly_connected_components(g1),key=len, reverse=True)]"
   ]
  },
  {
   "cell_type": "code",
   "execution_count": 8,
   "id": "cc54b019",
   "metadata": {},
   "outputs": [
    {
     "data": {
      "text/plain": [
       "[{'1', '10', '2', '3', '4', '5', '6', '7', '8', '9'}, {'11'}, {'12'}]"
      ]
     },
     "execution_count": 8,
     "metadata": {},
     "output_type": "execute_result"
    }
   ],
   "source": [
    "#Weak connectivity\n",
    "sorted(nx.weakly_connected_components(g1))"
   ]
  },
  {
   "cell_type": "code",
   "execution_count": 9,
   "id": "0f9d9ef8",
   "metadata": {},
   "outputs": [
    {
     "data": {
      "text/plain": [
       "[10, 1, 1]"
      ]
     },
     "execution_count": 9,
     "metadata": {},
     "output_type": "execute_result"
    }
   ],
   "source": [
    "[len(c) for c in sorted(nx.weakly_connected_components(g1),key=len, reverse=True)]"
   ]
  },
  {
   "cell_type": "code",
   "execution_count": 48,
   "id": "9011b8c0",
   "metadata": {},
   "outputs": [
    {
     "data": {
      "text/html": [
       "<div>\n",
       "<style scoped>\n",
       "    .dataframe tbody tr th:only-of-type {\n",
       "        vertical-align: middle;\n",
       "    }\n",
       "\n",
       "    .dataframe tbody tr th {\n",
       "        vertical-align: top;\n",
       "    }\n",
       "\n",
       "    .dataframe thead th {\n",
       "        text-align: right;\n",
       "    }\n",
       "</style>\n",
       "<table border=\"1\" class=\"dataframe\">\n",
       "  <thead>\n",
       "    <tr style=\"text-align: right;\">\n",
       "      <th></th>\n",
       "      <th>nodes</th>\n",
       "      <th>degree</th>\n",
       "      <th>weighted degree</th>\n",
       "    </tr>\n",
       "  </thead>\n",
       "  <tbody>\n",
       "    <tr>\n",
       "      <th>0</th>\n",
       "      <td>1</td>\n",
       "      <td>2</td>\n",
       "      <td>2</td>\n",
       "    </tr>\n",
       "    <tr>\n",
       "      <th>1</th>\n",
       "      <td>2</td>\n",
       "      <td>3</td>\n",
       "      <td>3</td>\n",
       "    </tr>\n",
       "    <tr>\n",
       "      <th>2</th>\n",
       "      <td>5</td>\n",
       "      <td>2</td>\n",
       "      <td>2</td>\n",
       "    </tr>\n",
       "    <tr>\n",
       "      <th>3</th>\n",
       "      <td>6</td>\n",
       "      <td>6</td>\n",
       "      <td>9</td>\n",
       "    </tr>\n",
       "    <tr>\n",
       "      <th>4</th>\n",
       "      <td>8</td>\n",
       "      <td>2</td>\n",
       "      <td>2</td>\n",
       "    </tr>\n",
       "    <tr>\n",
       "      <th>5</th>\n",
       "      <td>7</td>\n",
       "      <td>5</td>\n",
       "      <td>10</td>\n",
       "    </tr>\n",
       "    <tr>\n",
       "      <th>6</th>\n",
       "      <td>9</td>\n",
       "      <td>3</td>\n",
       "      <td>6</td>\n",
       "    </tr>\n",
       "    <tr>\n",
       "      <th>7</th>\n",
       "      <td>10</td>\n",
       "      <td>1</td>\n",
       "      <td>2</td>\n",
       "    </tr>\n",
       "    <tr>\n",
       "      <th>8</th>\n",
       "      <td>4</td>\n",
       "      <td>1</td>\n",
       "      <td>2</td>\n",
       "    </tr>\n",
       "    <tr>\n",
       "      <th>9</th>\n",
       "      <td>3</td>\n",
       "      <td>1</td>\n",
       "      <td>2</td>\n",
       "    </tr>\n",
       "    <tr>\n",
       "      <th>10</th>\n",
       "      <td>11</td>\n",
       "      <td>0</td>\n",
       "      <td>0</td>\n",
       "    </tr>\n",
       "    <tr>\n",
       "      <th>11</th>\n",
       "      <td>12</td>\n",
       "      <td>0</td>\n",
       "      <td>0</td>\n",
       "    </tr>\n",
       "  </tbody>\n",
       "</table>\n",
       "</div>"
      ],
      "text/plain": [
       "   nodes  degree  weighted degree\n",
       "0      1       2                2\n",
       "1      2       3                3\n",
       "2      5       2                2\n",
       "3      6       6                9\n",
       "4      8       2                2\n",
       "5      7       5               10\n",
       "6      9       3                6\n",
       "7     10       1                2\n",
       "8      4       1                2\n",
       "9      3       1                2\n",
       "10    11       0                0\n",
       "11    12       0                0"
      ]
     },
     "execution_count": 48,
     "metadata": {},
     "output_type": "execute_result"
    }
   ],
   "source": [
    "node_list=nx.nodes(g1)\n",
    "degree=[g1.degree(n) for n in node_list] \n",
    "weighted_degree=[g1.degree(n, weight='weight') for n in node_list] \n",
    "df=pd.DataFrame({'nodes': node_list, 'degree': degree, 'weighted degree': weighted_degree})\n",
    "df"
   ]
  },
  {
   "cell_type": "code",
   "execution_count": 11,
   "id": "88c8823c",
   "metadata": {},
   "outputs": [
    {
     "data": {
      "text/plain": [
       "<AxesSubplot:xlabel='degree', ylabel='Count'>"
      ]
     },
     "execution_count": 11,
     "metadata": {},
     "output_type": "execute_result"
    },
    {
     "data": {
      "image/png": "[encoded data removed]",
      "text/plain": [
       "<Figure size 432x288 with 1 Axes>"
      ]
     },
     "metadata": {
      "needs_background": "light"
     },
     "output_type": "display_data"
    }
   ],
   "source": [
    "sns.histplot(df['degree'])"
   ]
  },
  {
   "cell_type": "code",
   "execution_count": 12,
   "id": "3635051d",
   "metadata": {},
   "outputs": [
    {
     "data": {
      "text/plain": [
       "<AxesSubplot:xlabel='weighted degree', ylabel='Count'>"
      ]
     },
     "execution_count": 12,
     "metadata": {},
     "output_type": "execute_result"
    },
    {
     "data": {
      "image/png": "[encoded data removed]",
      "text/plain": [
       "<Figure size 432x288 with 1 Axes>"
      ]
     },
     "metadata": {
      "needs_background": "light"
     },
     "output_type": "display_data"
    }
   ],
   "source": [
    "sns.histplot(df['weighted degree'])"
   ]
  },
  {
   "cell_type": "code",
   "execution_count": 13,
   "id": "5e908121",
   "metadata": {},
   "outputs": [
    {
     "data": {
      "text/plain": [
       "{2: 2.1666666666666665,\n",
       " 3: 1.8333333333333333,\n",
       " 6: 1.0,\n",
       " 5: 2.0,\n",
       " 1: 3.6666666666666665,\n",
       " 0: 0}"
      ]
     },
     "execution_count": 13,
     "metadata": {},
     "output_type": "execute_result"
    }
   ],
   "source": [
    "#The average degree connectivity is the average nearest neighbor degree of nodes with degree \n",
    "nx.average_degree_connectivity(g1,source='in+out', target='in+out')"
   ]
  },
  {
   "cell_type": "code",
   "execution_count": 14,
   "id": "592ed6bc",
   "metadata": {},
   "outputs": [
    {
     "data": {
      "text/plain": [
       "{'1': 0,\n",
       " '2': 0,\n",
       " '5': 0,\n",
       " '6': 0.07142857142857142,\n",
       " '8': 0,\n",
       " '7': 0.1111111111111111,\n",
       " '9': 0.5,\n",
       " '10': 0,\n",
       " '4': 0,\n",
       " '3': 0,\n",
       " '11': 0,\n",
       " '12': 0}"
      ]
     },
     "execution_count": 14,
     "metadata": {},
     "output_type": "execute_result"
    }
   ],
   "source": [
    "#Compute the clustering coefficient for nodes.\n",
    "nx.clustering(g1)"
   ]
  },
  {
   "cell_type": "code",
   "execution_count": 15,
   "id": "91e6e316",
   "metadata": {},
   "outputs": [
    {
     "data": {
      "text/plain": [
       "0.05687830687830688"
      ]
     },
     "execution_count": 15,
     "metadata": {},
     "output_type": "execute_result"
    }
   ],
   "source": [
    "#Compute the average clustering coefficient for the graph \n",
    "nx.average_clustering(g1)"
   ]
  },
  {
   "cell_type": "code",
   "execution_count": 16,
   "id": "a85b663b",
   "metadata": {},
   "outputs": [
    {
     "data": {
      "text/plain": [
       "<AxesSubplot:xlabel='degree', ylabel='average clustering coefficient'>"
      ]
     },
     "execution_count": 16,
     "metadata": {},
     "output_type": "execute_result"
    },
    {
     "data": {
      "image/png": "[encoded data removed]",
      "text/plain": [
       "<Figure size 432x288 with 1 Axes>"
      ]
     },
     "metadata": {
      "needs_background": "light"
     },
     "output_type": "display_data"
    }
   ],
   "source": [
    "#Plot correlation between degree and centrality: for each degree from 0 to N, compute the average clustering coefficient of nodes and plot it as a line graph.\n",
    "clustering=[nx.clustering(g1,str(n)) for n in nx.nodes(g1)] \n",
    "df['clustering']=clustering\n",
    "degree_times=df['degree'].value_counts().to_dict()\n",
    "sum_clustering=[0]*len(range(0,df['degree'].max()+1))\n",
    "for i in range(0,df.shape[0]):\n",
    "    sum_clustering[df.iloc[i,1]]=sum_clustering[df.iloc[i,1]]+df.iloc[i,3]\n",
    "results=[]\n",
    "for i in range(0,df['degree'].max()+1):\n",
    "    if i in degree_times.keys():\n",
    "        result=sum_clustering[i]/degree_times[i]\n",
    "        results.append(result)\n",
    "    else:\n",
    "        results.append(0)\n",
    "df2=pd.DataFrame()\n",
    "df2['degree']=list(range(0,df['degree'].max()+1))\n",
    "df2['average clustering coefficient']=results\n",
    "sns.regplot(data=df2,x='degree',y='average clustering coefficient')"
   ]
  },
  {
   "cell_type": "code",
   "execution_count": 17,
   "id": "fa2c9ec1",
   "metadata": {},
   "outputs": [
    {
     "data": {
      "text/plain": [
       "{'1': 0.0,\n",
       " '2': 0.3181818181818182,\n",
       " '5': 0.18181818181818182,\n",
       " '6': 0.44545454545454544,\n",
       " '8': 0.0,\n",
       " '7': 0.2620320855614973,\n",
       " '9': 0.34265734265734266,\n",
       " '10': 0.0,\n",
       " '4': 0.23272727272727273,\n",
       " '3': 0.0,\n",
       " '11': 0.0,\n",
       " '12': 0.0}"
      ]
     },
     "execution_count": 17,
     "metadata": {},
     "output_type": "execute_result"
    }
   ],
   "source": [
    "nx.closeness_centrality(g1)"
   ]
  },
  {
   "cell_type": "code",
   "execution_count": 18,
   "id": "b39e707f",
   "metadata": {},
   "outputs": [
    {
     "data": {
      "text/plain": [
       "{'1': 0.0,\n",
       " '2': 0.03636363636363636,\n",
       " '5': 0.0,\n",
       " '6': 0.15454545454545454,\n",
       " '8': 0.0,\n",
       " '7': 0.10909090909090909,\n",
       " '9': 0.09090909090909091,\n",
       " '10': 0.0,\n",
       " '4': 0.0,\n",
       " '3': 0.0,\n",
       " '11': 0.0,\n",
       " '12': 0.0}"
      ]
     },
     "execution_count": 18,
     "metadata": {},
     "output_type": "execute_result"
    }
   ],
   "source": [
    "nx.betweenness_centrality(g1)"
   ]
  },
  {
   "cell_type": "code",
   "execution_count": 19,
   "id": "5cba39d9",
   "metadata": {},
   "outputs": [
    {
     "data": {
      "text/plain": [
       "{'1': 8.530663463863822e-11,\n",
       " '2': 0.3392042397679767,\n",
       " '5': 4.180025097293271e-09,\n",
       " '6': 0.5054835699642528,\n",
       " '8': 8.530663463863822e-11,\n",
       " '7': 0.41407339541567045,\n",
       " '9': 0.6170617873989056,\n",
       " '10': 8.530663463863822e-11,\n",
       " '4': 0.2778575497635949,\n",
       " '3': 8.530663463863822e-11,\n",
       " '11': 8.530663463863822e-11,\n",
       " '12': 8.530663463863822e-11}"
      ]
     },
     "execution_count": 19,
     "metadata": {},
     "output_type": "execute_result"
    }
   ],
   "source": [
    "nx.eigenvector_centrality(g1)"
   ]
  },
  {
   "cell_type": "markdown",
   "id": "0784e43f",
   "metadata": {},
   "source": [
    "# Undirected Graph"
   ]
  },
  {
   "cell_type": "code",
   "execution_count": 20,
   "id": "d0ca3b60",
   "metadata": {},
   "outputs": [],
   "source": [
    "g2 = nx.Graph()\n",
    "g2.add_edges_from([('1', '2'),('1','5'),('2','6'),('6','2'),('8','5'),('8','6')], weight=1)\n",
    "g2.add_edges_from([('7','6'),('6','9'),('7','9'),('9','7'),('10','7'),('7','4'),('3','6')], weight=2)\n",
    "g2.add_node('11')\n",
    "g2.add_node('12')"
   ]
  },
  {
   "cell_type": "code",
   "execution_count": 21,
   "id": "89511a47",
   "metadata": {},
   "outputs": [
    {
     "data": {
      "image/png": "[encoded data removed]",
      "text/plain": [
       "<Figure size 216x216 with 1 Axes>"
      ]
     },
     "metadata": {},
     "output_type": "display_data"
    }
   ],
   "source": [
    "plt.figure(1,figsize=(3,3)) \n",
    "pos=nx.kamada_kawai_layout(g2)\n",
    "nx.draw(g2,pos,with_labels=True)\n",
    "plt.show()"
   ]
  },
  {
   "cell_type": "code",
   "execution_count": 22,
   "id": "cddf7f25",
   "metadata": {},
   "outputs": [
    {
     "data": {
      "text/plain": [
       "12"
      ]
     },
     "execution_count": 22,
     "metadata": {},
     "output_type": "execute_result"
    }
   ],
   "source": [
    "nx.number_of_nodes(g2)"
   ]
  },
  {
   "cell_type": "code",
   "execution_count": 23,
   "id": "ed379b3c",
   "metadata": {},
   "outputs": [
    {
     "data": {
      "text/plain": [
       "11"
      ]
     },
     "execution_count": 23,
     "metadata": {},
     "output_type": "execute_result"
    }
   ],
   "source": [
    "nx.number_of_edges(g2)"
   ]
  },
  {
   "cell_type": "code",
   "execution_count": 24,
   "id": "a9ae2c12",
   "metadata": {},
   "outputs": [
    {
     "data": {
      "text/plain": [
       "3"
      ]
     },
     "execution_count": 24,
     "metadata": {},
     "output_type": "execute_result"
    }
   ],
   "source": [
    "nx.number_connected_components(g2)"
   ]
  },
  {
   "cell_type": "code",
   "execution_count": 25,
   "id": "534554d6",
   "metadata": {},
   "outputs": [
    {
     "data": {
      "text/plain": [
       "[{'1', '10', '2', '3', '4', '5', '6', '7', '8', '9'}, {'11'}, {'12'}]"
      ]
     },
     "execution_count": 25,
     "metadata": {},
     "output_type": "execute_result"
    }
   ],
   "source": [
    "components_list=sorted(nx.connected_components(g2), key=len, reverse=True)\n",
    "components_list"
   ]
  },
  {
   "cell_type": "code",
   "execution_count": 26,
   "id": "d22c4324",
   "metadata": {},
   "outputs": [
    {
     "data": {
      "text/plain": [
       "[10, 1, 1]"
      ]
     },
     "execution_count": 26,
     "metadata": {},
     "output_type": "execute_result"
    }
   ],
   "source": [
    "[len(c) for c in sorted(nx.connected_components(g2), key=len, reverse=True)]"
   ]
  },
  {
   "cell_type": "code",
   "execution_count": 27,
   "id": "0c7a3fc6",
   "metadata": {},
   "outputs": [
    {
     "data": {
      "image/png": "[encoded data removed]",
      "text/plain": [
       "<Figure size 216x216 with 1 Axes>"
      ]
     },
     "metadata": {},
     "output_type": "display_data"
    }
   ],
   "source": [
    "g2_1=g2.subgraph(components_list[0])\n",
    "plt.figure(1,figsize=(3,3)) \n",
    "pos=nx.kamada_kawai_layout(g2_1)\n",
    "nx.draw(g2_1,pos,with_labels=True)\n",
    "plt.show()"
   ]
  },
  {
   "cell_type": "code",
   "execution_count": 49,
   "id": "0e11c50d",
   "metadata": {},
   "outputs": [
    {
     "data": {
      "text/html": [
       "<div>\n",
       "<style scoped>\n",
       "    .dataframe tbody tr th:only-of-type {\n",
       "        vertical-align: middle;\n",
       "    }\n",
       "\n",
       "    .dataframe tbody tr th {\n",
       "        vertical-align: top;\n",
       "    }\n",
       "\n",
       "    .dataframe thead th {\n",
       "        text-align: right;\n",
       "    }\n",
       "</style>\n",
       "<table border=\"1\" class=\"dataframe\">\n",
       "  <thead>\n",
       "    <tr style=\"text-align: right;\">\n",
       "      <th></th>\n",
       "      <th>nodes</th>\n",
       "      <th>degree</th>\n",
       "      <th>weighted degree</th>\n",
       "    </tr>\n",
       "  </thead>\n",
       "  <tbody>\n",
       "    <tr>\n",
       "      <th>0</th>\n",
       "      <td>1</td>\n",
       "      <td>2</td>\n",
       "      <td>2</td>\n",
       "    </tr>\n",
       "    <tr>\n",
       "      <th>1</th>\n",
       "      <td>2</td>\n",
       "      <td>2</td>\n",
       "      <td>2</td>\n",
       "    </tr>\n",
       "    <tr>\n",
       "      <th>2</th>\n",
       "      <td>5</td>\n",
       "      <td>2</td>\n",
       "      <td>2</td>\n",
       "    </tr>\n",
       "    <tr>\n",
       "      <th>3</th>\n",
       "      <td>6</td>\n",
       "      <td>5</td>\n",
       "      <td>8</td>\n",
       "    </tr>\n",
       "    <tr>\n",
       "      <th>4</th>\n",
       "      <td>8</td>\n",
       "      <td>2</td>\n",
       "      <td>2</td>\n",
       "    </tr>\n",
       "    <tr>\n",
       "      <th>5</th>\n",
       "      <td>7</td>\n",
       "      <td>4</td>\n",
       "      <td>8</td>\n",
       "    </tr>\n",
       "    <tr>\n",
       "      <th>6</th>\n",
       "      <td>9</td>\n",
       "      <td>2</td>\n",
       "      <td>4</td>\n",
       "    </tr>\n",
       "    <tr>\n",
       "      <th>7</th>\n",
       "      <td>10</td>\n",
       "      <td>1</td>\n",
       "      <td>2</td>\n",
       "    </tr>\n",
       "    <tr>\n",
       "      <th>8</th>\n",
       "      <td>4</td>\n",
       "      <td>1</td>\n",
       "      <td>2</td>\n",
       "    </tr>\n",
       "    <tr>\n",
       "      <th>9</th>\n",
       "      <td>3</td>\n",
       "      <td>1</td>\n",
       "      <td>2</td>\n",
       "    </tr>\n",
       "    <tr>\n",
       "      <th>10</th>\n",
       "      <td>11</td>\n",
       "      <td>0</td>\n",
       "      <td>0</td>\n",
       "    </tr>\n",
       "    <tr>\n",
       "      <th>11</th>\n",
       "      <td>12</td>\n",
       "      <td>0</td>\n",
       "      <td>0</td>\n",
       "    </tr>\n",
       "  </tbody>\n",
       "</table>\n",
       "</div>"
      ],
      "text/plain": [
       "   nodes  degree  weighted degree\n",
       "0      1       2                2\n",
       "1      2       2                2\n",
       "2      5       2                2\n",
       "3      6       5                8\n",
       "4      8       2                2\n",
       "5      7       4                8\n",
       "6      9       2                4\n",
       "7     10       1                2\n",
       "8      4       1                2\n",
       "9      3       1                2\n",
       "10    11       0                0\n",
       "11    12       0                0"
      ]
     },
     "execution_count": 49,
     "metadata": {},
     "output_type": "execute_result"
    }
   ],
   "source": [
    "node_list=nx.nodes(g2)\n",
    "degree=[g2.degree(n) for n in node_list] \n",
    "weighted_degree=[g2.degree(n, weight='weight') for n in node_list] \n",
    "df=pd.DataFrame({'nodes': node_list, 'degree': degree,'weighted degree': weighted_degree})\n",
    "df"
   ]
  },
  {
   "cell_type": "code",
   "execution_count": 29,
   "id": "795f446a",
   "metadata": {},
   "outputs": [
    {
     "data": {
      "text/plain": [
       "<AxesSubplot:xlabel='degree', ylabel='Count'>"
      ]
     },
     "execution_count": 29,
     "metadata": {},
     "output_type": "execute_result"
    },
    {
     "data": {
      "image/png": "[encoded data removed]",
      "text/plain": [
       "<Figure size 432x288 with 1 Axes>"
      ]
     },
     "metadata": {
      "needs_background": "light"
     },
     "output_type": "display_data"
    }
   ],
   "source": [
    "sns.histplot(df['degree'])"
   ]
  },
  {
   "cell_type": "code",
   "execution_count": 30,
   "id": "60089496",
   "metadata": {},
   "outputs": [
    {
     "data": {
      "text/plain": [
       "<AxesSubplot:xlabel='weighted degree', ylabel='Count'>"
      ]
     },
     "execution_count": 30,
     "metadata": {},
     "output_type": "execute_result"
    },
    {
     "data": {
      "image/png": "[encoded data removed]",
      "text/plain": [
       "<Figure size 432x288 with 1 Axes>"
      ]
     },
     "metadata": {
      "needs_background": "light"
     },
     "output_type": "display_data"
    }
   ],
   "source": [
    "sns.histplot(df['weighted degree'])"
   ]
  },
  {
   "cell_type": "code",
   "execution_count": 31,
   "id": "1d231dc2",
   "metadata": {},
   "outputs": [
    {
     "data": {
      "text/html": [
       "<div>\n",
       "<style scoped>\n",
       "    .dataframe tbody tr th:only-of-type {\n",
       "        vertical-align: middle;\n",
       "    }\n",
       "\n",
       "    .dataframe tbody tr th {\n",
       "        vertical-align: top;\n",
       "    }\n",
       "\n",
       "    .dataframe thead th {\n",
       "        text-align: right;\n",
       "    }\n",
       "</style>\n",
       "<table border=\"1\" class=\"dataframe\">\n",
       "  <thead>\n",
       "    <tr style=\"text-align: right;\">\n",
       "      <th></th>\n",
       "      <th>nodes</th>\n",
       "      <th>degree</th>\n",
       "      <th>weighted degree</th>\n",
       "    </tr>\n",
       "  </thead>\n",
       "  <tbody>\n",
       "    <tr>\n",
       "      <th>3</th>\n",
       "      <td>6</td>\n",
       "      <td>5</td>\n",
       "      <td>8</td>\n",
       "    </tr>\n",
       "    <tr>\n",
       "      <th>5</th>\n",
       "      <td>7</td>\n",
       "      <td>4</td>\n",
       "      <td>8</td>\n",
       "    </tr>\n",
       "    <tr>\n",
       "      <th>0</th>\n",
       "      <td>1</td>\n",
       "      <td>2</td>\n",
       "      <td>2</td>\n",
       "    </tr>\n",
       "    <tr>\n",
       "      <th>1</th>\n",
       "      <td>2</td>\n",
       "      <td>2</td>\n",
       "      <td>2</td>\n",
       "    </tr>\n",
       "    <tr>\n",
       "      <th>2</th>\n",
       "      <td>5</td>\n",
       "      <td>2</td>\n",
       "      <td>2</td>\n",
       "    </tr>\n",
       "    <tr>\n",
       "      <th>4</th>\n",
       "      <td>8</td>\n",
       "      <td>2</td>\n",
       "      <td>2</td>\n",
       "    </tr>\n",
       "    <tr>\n",
       "      <th>6</th>\n",
       "      <td>9</td>\n",
       "      <td>2</td>\n",
       "      <td>4</td>\n",
       "    </tr>\n",
       "    <tr>\n",
       "      <th>7</th>\n",
       "      <td>10</td>\n",
       "      <td>1</td>\n",
       "      <td>2</td>\n",
       "    </tr>\n",
       "    <tr>\n",
       "      <th>8</th>\n",
       "      <td>4</td>\n",
       "      <td>1</td>\n",
       "      <td>2</td>\n",
       "    </tr>\n",
       "    <tr>\n",
       "      <th>9</th>\n",
       "      <td>3</td>\n",
       "      <td>1</td>\n",
       "      <td>2</td>\n",
       "    </tr>\n",
       "  </tbody>\n",
       "</table>\n",
       "</div>"
      ],
      "text/plain": [
       "  nodes  degree  weighted degree\n",
       "3     6       5                8\n",
       "5     7       4                8\n",
       "0     1       2                2\n",
       "1     2       2                2\n",
       "2     5       2                2\n",
       "4     8       2                2\n",
       "6     9       2                4\n",
       "7    10       1                2\n",
       "8     4       1                2\n",
       "9     3       1                2"
      ]
     },
     "execution_count": 31,
     "metadata": {},
     "output_type": "execute_result"
    }
   ],
   "source": [
    "df.sort_values('degree',ascending=False)[0:10]"
   ]
  },
  {
   "cell_type": "code",
   "execution_count": 32,
   "id": "51c009bd",
   "metadata": {},
   "outputs": [
    {
     "data": {
      "text/plain": [
       "{2: 3.1, 5: 2.2, 4: 2.25, 1: 4.333333333333333, 0: 0}"
      ]
     },
     "execution_count": 32,
     "metadata": {},
     "output_type": "execute_result"
    }
   ],
   "source": [
    "nx.average_degree_connectivity(g2)"
   ]
  },
  {
   "cell_type": "code",
   "execution_count": 33,
   "id": "839a9ee4",
   "metadata": {},
   "outputs": [
    {
     "data": {
      "text/plain": [
       "{'1': 0,\n",
       " '2': 0,\n",
       " '5': 0,\n",
       " '6': 0.1,\n",
       " '8': 0,\n",
       " '7': 0.16666666666666666,\n",
       " '9': 1.0,\n",
       " '10': 0,\n",
       " '4': 0,\n",
       " '3': 0,\n",
       " '11': 0,\n",
       " '12': 0}"
      ]
     },
     "execution_count": 33,
     "metadata": {},
     "output_type": "execute_result"
    }
   ],
   "source": [
    "#Compute the clustering coefficient for nodes.\n",
    "nx.clustering(g2)"
   ]
  },
  {
   "cell_type": "code",
   "execution_count": 34,
   "id": "6656513c",
   "metadata": {},
   "outputs": [
    {
     "data": {
      "text/plain": [
       "0.10555555555555556"
      ]
     },
     "execution_count": 34,
     "metadata": {},
     "output_type": "execute_result"
    }
   ],
   "source": [
    "#Compute the average clustering coefficient for the graph \n",
    "nx.average_clustering(g2)"
   ]
  },
  {
   "cell_type": "code",
   "execution_count": 35,
   "id": "3e81e5fc",
   "metadata": {},
   "outputs": [
    {
     "data": {
      "text/plain": [
       "<AxesSubplot:xlabel='degree', ylabel='average clustering coefficient'>"
      ]
     },
     "execution_count": 35,
     "metadata": {},
     "output_type": "execute_result"
    },
    {
     "data": {
      "image/png": "[encoded data removed]",
      "text/plain": [
       "<Figure size 432x288 with 1 Axes>"
      ]
     },
     "metadata": {
      "needs_background": "light"
     },
     "output_type": "display_data"
    }
   ],
   "source": [
    "#Plot correlation between degree and centrality: for each degree from 0 to N, compute the average clustering coefficient of nodes and plot it as a line graph.\n",
    "clustering=[nx.clustering(g2,str(n)) for n in nx.nodes(g2)] \n",
    "df['clustering']=clustering\n",
    "degree_times=df['degree'].value_counts().to_dict()\n",
    "sum_clustering=[0]*len(range(0,df['degree'].max()+1))\n",
    "for i in range(0,df.shape[0]):\n",
    "    sum_clustering[df.iloc[i,1]]=sum_clustering[df.iloc[i,1]]+df.iloc[i,3]\n",
    "results=[]\n",
    "for i in range(0,df['degree'].max()+1):\n",
    "    if i in degree_times.keys():\n",
    "        result=sum_clustering[i]/degree_times[i]\n",
    "        results.append(result)\n",
    "    else:\n",
    "        results.append(0)\n",
    "df2=pd.DataFrame()\n",
    "df2['degree']=list(range(0,df['degree'].max()+1))\n",
    "df2['average clustering coefficient']=results\n",
    "sns.regplot(data=df2,x='degree',y='average clustering coefficient')"
   ]
  },
  {
   "cell_type": "code",
   "execution_count": 36,
   "id": "748ac0e7",
   "metadata": {},
   "outputs": [
    {
     "data": {
      "text/plain": [
       "{'1': 0.32015810276679846,\n",
       " '2': 0.4090909090909091,\n",
       " '5': 0.32015810276679846,\n",
       " '6': 0.5664335664335665,\n",
       " '8': 0.4090909090909091,\n",
       " '7': 0.46022727272727276,\n",
       " '9': 0.4090909090909091,\n",
       " '10': 0.3068181818181818,\n",
       " '4': 0.3068181818181818,\n",
       " '3': 0.35064935064935066,\n",
       " '11': 0.0,\n",
       " '12': 0.0}"
      ]
     },
     "execution_count": 36,
     "metadata": {},
     "output_type": "execute_result"
    }
   ],
   "source": [
    "nx.closeness_centrality(g2)"
   ]
  },
  {
   "cell_type": "code",
   "execution_count": 37,
   "id": "f484e56f",
   "metadata": {},
   "outputs": [
    {
     "data": {
      "text/plain": [
       "{'1': 0.01818181818181818,\n",
       " '2': 0.10909090909090909,\n",
       " '5': 0.01818181818181818,\n",
       " '6': 0.45454545454545453,\n",
       " '8': 0.10909090909090909,\n",
       " '7': 0.2727272727272727,\n",
       " '9': 0.0,\n",
       " '10': 0.0,\n",
       " '4': 0.0,\n",
       " '3': 0.0,\n",
       " '11': 0.0,\n",
       " '12': 0.0}"
      ]
     },
     "execution_count": 37,
     "metadata": {},
     "output_type": "execute_result"
    }
   ],
   "source": [
    "nx.betweenness_centrality(g2)"
   ]
  },
  {
   "cell_type": "code",
   "execution_count": 38,
   "id": "8fdd465e",
   "metadata": {},
   "outputs": [
    {
     "data": {
      "text/plain": [
       "{'1': 0.15133037807284472,\n",
       " '2': 0.2656421960548923,\n",
       " '5': 0.15133037807284472,\n",
       " '6': 0.5806200820175323,\n",
       " '8': 0.2656421960548923,\n",
       " '7': 0.47480608842495564,\n",
       " '9': 0.3830367323153122,\n",
       " '10': 0.17231677067226434,\n",
       " '4': 0.17231677067226434,\n",
       " '3': 0.2107199616430479,\n",
       " '11': 7.646942293048884e-18,\n",
       " '12': 7.646942293048884e-18}"
      ]
     },
     "execution_count": 38,
     "metadata": {},
     "output_type": "execute_result"
    }
   ],
   "source": [
    "nx.eigenvector_centrality(g2)"
   ]
  },
  {
   "cell_type": "markdown",
   "id": "7e4dcef5",
   "metadata": {},
   "source": [
    "# Average distance in the graph, diameter"
   ]
  },
  {
   "cell_type": "code",
   "execution_count": 39,
   "id": "57a16fba",
   "metadata": {},
   "outputs": [],
   "source": [
    "g3 = nx.Graph()\n",
    "g3.add_edges_from([('1', '2'),('1','5'),('2','6'),('6','2'),('8','5'),('8','6')], weight=1)\n",
    "g3.add_edges_from([('7','6'),('6','9'),('7','9'),('9','7'),('10','7'),('7','4'),('3','6')], weight=2)"
   ]
  },
  {
   "cell_type": "code",
   "execution_count": 40,
   "id": "4c59bb36",
   "metadata": {},
   "outputs": [
    {
     "data": {
      "image/png": "[encoded data removed]",
      "text/plain": [
       "<Figure size 216x216 with 1 Axes>"
      ]
     },
     "metadata": {},
     "output_type": "display_data"
    }
   ],
   "source": [
    "plt.figure(1,figsize=(3,3)) \n",
    "pos=nx.kamada_kawai_layout(g3)\n",
    "nx.draw(g3,pos,with_labels=True)\n",
    "plt.show()"
   ]
  },
  {
   "cell_type": "code",
   "execution_count": 41,
   "id": "07cebcc2",
   "metadata": {},
   "outputs": [
    {
     "data": {
      "text/plain": [
       "4"
      ]
     },
     "execution_count": 41,
     "metadata": {},
     "output_type": "execute_result"
    }
   ],
   "source": [
    "nx.diameter(g3)"
   ]
  },
  {
   "cell_type": "code",
   "execution_count": 42,
   "id": "02880f7b",
   "metadata": {},
   "outputs": [
    {
     "data": {
      "text/plain": [
       "2.2"
      ]
     },
     "execution_count": 42,
     "metadata": {},
     "output_type": "execute_result"
    }
   ],
   "source": [
    "nx.average_shortest_path_length(g3)"
   ]
  },
  {
   "cell_type": "markdown",
   "id": "46c9f730",
   "metadata": {},
   "source": [
    "# Degree distribution on a log-log scale"
   ]
  },
  {
   "cell_type": "code",
   "execution_count": 43,
   "id": "8ffd1c2e",
   "metadata": {},
   "outputs": [],
   "source": [
    "import json\n",
    "import requests"
   ]
  },
  {
   "cell_type": "code",
   "execution_count": 44,
   "id": "39438581",
   "metadata": {},
   "outputs": [],
   "source": [
    "url='http://snap.stanford.edu/data/wiki-Vote.txt.gz'\n",
    "r=requests.get(url, allow_redirects=True)\n",
    "data_file=open('wiki-Vote.txt.gz', 'wb').write(r.content)"
   ]
  },
  {
   "cell_type": "code",
   "execution_count": 45,
   "id": "027623a4",
   "metadata": {},
   "outputs": [],
   "source": [
    "g=nx.read_edgelist('wiki-Vote.txt.gz', comments='#', create_using=nx.DiGraph(), nodetype = int)"
   ]
  },
  {
   "cell_type": "code",
   "execution_count": 46,
   "id": "eed1581b",
   "metadata": {},
   "outputs": [
    {
     "data": {
      "image/png": "[encoded data removed]",
      "text/plain": [
       "<Figure size 720x720 with 1 Axes>"
      ]
     },
     "metadata": {
      "needs_background": "light"
     },
     "output_type": "display_data"
    }
   ],
   "source": [
    "degrees=dict(g.out_degree())\n",
    "degree_vals=list(filter(lambda val: val > 0, degrees.values()))\n",
    "sorted_degree_vals=sorted(set(degree_vals))\n",
    "hist=[degree_vals.count(x) for x in sorted_degree_vals]\n",
    "\n",
    "x = np.asarray(sorted_degree_vals, dtype = float)\n",
    "y = np.asarray(hist, dtype = float)\n",
    "\n",
    "logx = np.log10(x)\n",
    "logy = np.log10(y)\n",
    "\n",
    "plt.figure(figsize=(10,10))\n",
    "plt.xlim(min(logx), max(logx))\n",
    "plt.xlabel('log10 (Out Degree)')\n",
    "plt.ylabel('log10 (Number of nodes)')\n",
    "plt.title('Out Degree Distribution of network')\n",
    "out_degree_dist = plt.plot(logx, logy, 'o')"
   ]
  },
  {
   "cell_type": "code",
   "execution_count": 47,
   "id": "4c46f1b8",
   "metadata": {},
   "outputs": [
    {
     "name": "stdout",
     "output_type": "stream",
     "text": [
      "a: -1.2810647056745657\n",
      "b: 3.1324547044999123\n"
     ]
    },
    {
     "data": {
      "image/png": "[encoded data removed]",
      "text/plain": [
       "<Figure size 720x720 with 1 Axes>"
      ]
     },
     "metadata": {
      "needs_background": "light"
     },
     "output_type": "display_data"
    }
   ],
   "source": [
    "#Compute and plot the least-square regression line for the out-degree distribution in the log-log scale plot.\n",
    "#We want to find coefficients a and b such that the function log10 y = a · log10 x + b best fits the outdegree distribution. \n",
    "from scipy.stats import linregress\n",
    "\n",
    "a, b = np.polyfit(logx, logy, 1)\n",
    "\n",
    "plt.figure(figsize=(10,10))\n",
    "plt.xlim(min(logx), max(logx))\n",
    "plt.xlabel('log10 (Out Degree)')\n",
    "plt.ylabel('log10 (Number of nodes)')\n",
    "plt.title('Out Degree Distribution of network')\n",
    "scatter_plot = plt.plot(logx, logy, 'o')\n",
    "scatter_plot_regression = plt.plot(logx, a*logx + b)\n",
    "\n",
    "print(\"a: \" + str(a))\n",
    "print(\"b: \" + str(b))"
   ]
  },
  {
   "cell_type": "code",
   "execution_count": null,
   "id": "97b0737a",
   "metadata": {},
   "outputs": [],
   "source": []
  },
  {
   "cell_type": "code",
   "execution_count": null,
   "id": "d5574eac",
   "metadata": {},
   "outputs": [],
   "source": []
  }
 ],
 "metadata": {
  "kernelspec": {
   "display_name": "Python 3",
   "language": "python",
   "name": "python3"
  },
  "language_info": {
   "codemirror_mode": {
    "name": "ipython",
    "version": 3
   },
   "file_extension": ".py",
   "mimetype": "text/x-python",
   "name": "python",
   "nbconvert_exporter": "python",
   "pygments_lexer": "ipython3",
   "version": "3.8.8"
  }
 },
 "nbformat": 4,
 "nbformat_minor": 5
}
