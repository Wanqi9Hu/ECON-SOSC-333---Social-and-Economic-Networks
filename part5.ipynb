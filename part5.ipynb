{
 "cells": [
  {
   "cell_type": "code",
   "execution_count": 1,
   "id": "38dda982",
   "metadata": {},
   "outputs": [],
   "source": [
    "#pip install networkx==2.4\n",
    "import networkx as nx\n",
    "import numpy as np\n",
    "import matplotlib.pyplot as plt\n",
    "import random\n",
    "from matplotlib.pyplot import MultipleLocator"
   ]
  },
  {
   "cell_type": "code",
   "execution_count": 2,
   "id": "40fcee40",
   "metadata": {},
   "outputs": [],
   "source": [
    "N = 2000 #number of individuals\n",
    "g=nx.erdos_renyi_graph(N, 0.4, seed=None, directed=False) #Generate a random network\n",
    "rho = 0.05 #initial fraction infected\n",
    "tau = 0.3 #infection rate\n",
    "gamma = 0.5 #recovery rate"
   ]
  },
  {
   "cell_type": "code",
   "execution_count": 3,
   "id": "7d7ea593",
   "metadata": {},
   "outputs": [],
   "source": [
    "#Assume that people who have infected and cured still have the probability of being infected.\n",
    "#Create a list to record the infected people\n",
    "begin=list(np.random.choice(g.nodes(),size=round(len(g.nodes())*rho)))\n",
    "#When people are infected, 'state'=1\n",
    "#When people are not infected, 'state'=0\n",
    "for i in range(0,len(begin)):\n",
    "    g.nodes[begin[i]]['state']=1\n",
    "#Create a list to store the number of infected people every day\n",
    "infected=[len(begin)]\n",
    "#Do the while-loop until everyone is not infected or cured.\n",
    "while len(begin)>0:\n",
    "    #Create a list to record the infected people that fail to be cured in this loop\n",
    "    temp1=begin[:]\n",
    "    #Create a list to record the infected people in this loop\n",
    "    temp2=[]\n",
    "    for m in range(0,len(begin)):\n",
    "        neighbor=list(g.neighbors(begin[m]))\n",
    "        for n in range(0,len(neighbor)):\n",
    "            try:\n",
    "                #Neighbor has already been infected\n",
    "                if g.nodes[neighbor[n]]['state']==1:\n",
    "                    continue\n",
    "                #Neighbor has already been infected and cured\n",
    "                if g.nodes[neighbor[n]]['state']==0:\n",
    "                    if random.random()<=tau:\n",
    "                        g.nodes[neighbor[n]]['state']=1\n",
    "                        temp2.append(neighbor[n])\n",
    "            except:\n",
    "                #Neighbor has not been infected\n",
    "                if random.random()<=tau:\n",
    "                    g.nodes[neighbor[n]]['state']=1\n",
    "                    temp2.append(neighbor[n])\n",
    "        #Infected people in the previous loop have probability to be cured.\n",
    "        if random.random()<=gamma:\n",
    "            temp1.remove(begin[m])\n",
    "    begin=temp1+temp2\n",
    "    infected.append(len(begin))"
   ]
  },
  {
   "cell_type": "code",
   "execution_count": 4,
   "id": "d9ce8aa7",
   "metadata": {},
   "outputs": [
    {
     "data": {
      "text/plain": [
       "Text(0, 0.5, 'Infected Rate')"
      ]
     },
     "execution_count": 4,
     "metadata": {},
     "output_type": "execute_result"
    },
    {
     "data": {
      "image/png": "[encoded data removed]",
      "text/plain": [
       "<Figure size 432x288 with 1 Axes>"
      ]
     },
     "metadata": {
      "needs_background": "light"
     },
     "output_type": "display_data"
    }
   ],
   "source": [
    "infected=np.array(infected)\n",
    "infected_rate=infected/N\n",
    "t=[]\n",
    "for i in range(1,infected_rate.shape[0]+1):\n",
    "    t.append(i)\n",
    "plt.scatter(t, infected_rate, marker='o',s=40)\n",
    "plt.plot(t, infected_rate, 'C3', lw=3, )\n",
    "x_major_locator=MultipleLocator(1)\n",
    "ax=plt.gca()\n",
    "ax.xaxis.set_major_locator(x_major_locator)\n",
    "plt.xlabel('Time')\n",
    "plt.ylabel('Infected Rate')"
   ]
  },
  {
   "cell_type": "code",
   "execution_count": null,
   "id": "ddda29dd",
   "metadata": {},
   "outputs": [],
   "source": []
  }
 ],
 "metadata": {
  "kernelspec": {
   "display_name": "Python 3",
   "language": "python",
   "name": "python3"
  },
  "language_info": {
   "codemirror_mode": {
    "name": "ipython",
    "version": 3
   },
   "file_extension": ".py",
   "mimetype": "text/x-python",
   "name": "python",
   "nbconvert_exporter": "python",
   "pygments_lexer": "ipython3",
   "version": "3.8.8"
  }
 },
 "nbformat": 4,
 "nbformat_minor": 5
}
